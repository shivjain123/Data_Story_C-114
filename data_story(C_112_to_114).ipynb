{
  "nbformat": 4,
  "nbformat_minor": 0,
  "metadata": {
    "colab": {
      "name": "data_story(C-112 to 114).ipynb",
      "provenance": [],
      "authorship_tag": "ABX9TyMbveS7TycB0ioXUCRJUVJP",
      "include_colab_link": true
    },
    "kernelspec": {
      "name": "python3",
      "display_name": "Python 3"
    },
    "language_info": {
      "name": "python"
    }
  },
  "cells": [
    {
      "cell_type": "markdown",
      "metadata": {
        "id": "view-in-github",
        "colab_type": "text"
      },
      "source": [
        "<a href=\"https://colab.research.google.com/github/shivjain123/Data_Story_C-114/blob/master/data_story(C_112_to_114).ipynb\" target=\"_parent\"><img src=\"https://colab.research.google.com/assets/colab-badge.svg\" alt=\"Open In Colab\"/></a>"
      ]
    },
    {
      "cell_type": "code",
      "metadata": {
        "colab": {
          "resources": {
            "http://localhost:8080/nbextensions/google.colab/files.js": {
              "data": "Ly8gQ29weXJpZ2h0IDIwMTcgR29vZ2xlIExMQwovLwovLyBMaWNlbnNlZCB1bmRlciB0aGUgQXBhY2hlIExpY2Vuc2UsIFZlcnNpb24gMi4wICh0aGUgIkxpY2Vuc2UiKTsKLy8geW91IG1heSBub3QgdXNlIHRoaXMgZmlsZSBleGNlcHQgaW4gY29tcGxpYW5jZSB3aXRoIHRoZSBMaWNlbnNlLgovLyBZb3UgbWF5IG9idGFpbiBhIGNvcHkgb2YgdGhlIExpY2Vuc2UgYXQKLy8KLy8gICAgICBodHRwOi8vd3d3LmFwYWNoZS5vcmcvbGljZW5zZXMvTElDRU5TRS0yLjAKLy8KLy8gVW5sZXNzIHJlcXVpcmVkIGJ5IGFwcGxpY2FibGUgbGF3IG9yIGFncmVlZCB0byBpbiB3cml0aW5nLCBzb2Z0d2FyZQovLyBkaXN0cmlidXRlZCB1bmRlciB0aGUgTGljZW5zZSBpcyBkaXN0cmlidXRlZCBvbiBhbiAiQVMgSVMiIEJBU0lTLAovLyBXSVRIT1VUIFdBUlJBTlRJRVMgT1IgQ09ORElUSU9OUyBPRiBBTlkgS0lORCwgZWl0aGVyIGV4cHJlc3Mgb3IgaW1wbGllZC4KLy8gU2VlIHRoZSBMaWNlbnNlIGZvciB0aGUgc3BlY2lmaWMgbGFuZ3VhZ2UgZ292ZXJuaW5nIHBlcm1pc3Npb25zIGFuZAovLyBsaW1pdGF0aW9ucyB1bmRlciB0aGUgTGljZW5zZS4KCi8qKgogKiBAZmlsZW92ZXJ2aWV3IEhlbHBlcnMgZm9yIGdvb2dsZS5jb2xhYiBQeXRob24gbW9kdWxlLgogKi8KKGZ1bmN0aW9uKHNjb3BlKSB7CmZ1bmN0aW9uIHNwYW4odGV4dCwgc3R5bGVBdHRyaWJ1dGVzID0ge30pIHsKICBjb25zdCBlbGVtZW50ID0gZG9jdW1lbnQuY3JlYXRlRWxlbWVudCgnc3BhbicpOwogIGVsZW1lbnQudGV4dENvbnRlbnQgPSB0ZXh0OwogIGZvciAoY29uc3Qga2V5IG9mIE9iamVjdC5rZXlzKHN0eWxlQXR0cmlidXRlcykpIHsKICAgIGVsZW1lbnQuc3R5bGVba2V5XSA9IHN0eWxlQXR0cmlidXRlc1trZXldOwogIH0KICByZXR1cm4gZWxlbWVudDsKfQoKLy8gTWF4IG51bWJlciBvZiBieXRlcyB3aGljaCB3aWxsIGJlIHVwbG9hZGVkIGF0IGEgdGltZS4KY29uc3QgTUFYX1BBWUxPQURfU0laRSA9IDEwMCAqIDEwMjQ7CgpmdW5jdGlvbiBfdXBsb2FkRmlsZXMoaW5wdXRJZCwgb3V0cHV0SWQpIHsKICBjb25zdCBzdGVwcyA9IHVwbG9hZEZpbGVzU3RlcChpbnB1dElkLCBvdXRwdXRJZCk7CiAgY29uc3Qgb3V0cHV0RWxlbWVudCA9IGRvY3VtZW50LmdldEVsZW1lbnRCeUlkKG91dHB1dElkKTsKICAvLyBDYWNoZSBzdGVwcyBvbiB0aGUgb3V0cHV0RWxlbWVudCB0byBtYWtlIGl0IGF2YWlsYWJsZSBmb3IgdGhlIG5leHQgY2FsbAogIC8vIHRvIHVwbG9hZEZpbGVzQ29udGludWUgZnJvbSBQeXRob24uCiAgb3V0cHV0RWxlbWVudC5zdGVwcyA9IHN0ZXBzOwoKICByZXR1cm4gX3VwbG9hZEZpbGVzQ29udGludWUob3V0cHV0SWQpOwp9CgovLyBUaGlzIGlzIHJvdWdobHkgYW4gYXN5bmMgZ2VuZXJhdG9yIChub3Qgc3VwcG9ydGVkIGluIHRoZSBicm93c2VyIHlldCksCi8vIHdoZXJlIHRoZXJlIGFyZSBtdWx0aXBsZSBhc3luY2hyb25vdXMgc3RlcHMgYW5kIHRoZSBQeXRob24gc2lkZSBpcyBnb2luZwovLyB0byBwb2xsIGZvciBjb21wbGV0aW9uIG9mIGVhY2ggc3RlcC4KLy8gVGhpcyB1c2VzIGEgUHJvbWlzZSB0byBibG9jayB0aGUgcHl0aG9uIHNpZGUgb24gY29tcGxldGlvbiBvZiBlYWNoIHN0ZXAsCi8vIHRoZW4gcGFzc2VzIHRoZSByZXN1bHQgb2YgdGhlIHByZXZpb3VzIHN0ZXAgYXMgdGhlIGlucHV0IHRvIHRoZSBuZXh0IHN0ZXAuCmZ1bmN0aW9uIF91cGxvYWRGaWxlc0NvbnRpbnVlKG91dHB1dElkKSB7CiAgY29uc3Qgb3V0cHV0RWxlbWVudCA9IGRvY3VtZW50LmdldEVsZW1lbnRCeUlkKG91dHB1dElkKTsKICBjb25zdCBzdGVwcyA9IG91dHB1dEVsZW1lbnQuc3RlcHM7CgogIGNvbnN0IG5leHQgPSBzdGVwcy5uZXh0KG91dHB1dEVsZW1lbnQubGFzdFByb21pc2VWYWx1ZSk7CiAgcmV0dXJuIFByb21pc2UucmVzb2x2ZShuZXh0LnZhbHVlLnByb21pc2UpLnRoZW4oKHZhbHVlKSA9PiB7CiAgICAvLyBDYWNoZSB0aGUgbGFzdCBwcm9taXNlIHZhbHVlIHRvIG1ha2UgaXQgYXZhaWxhYmxlIHRvIHRoZSBuZXh0CiAgICAvLyBzdGVwIG9mIHRoZSBnZW5lcmF0b3IuCiAgICBvdXRwdXRFbGVtZW50Lmxhc3RQcm9taXNlVmFsdWUgPSB2YWx1ZTsKICAgIHJldHVybiBuZXh0LnZhbHVlLnJlc3BvbnNlOwogIH0pOwp9CgovKioKICogR2VuZXJhdG9yIGZ1bmN0aW9uIHdoaWNoIGlzIGNhbGxlZCBiZXR3ZWVuIGVhY2ggYXN5bmMgc3RlcCBvZiB0aGUgdXBsb2FkCiAqIHByb2Nlc3MuCiAqIEBwYXJhbSB7c3RyaW5nfSBpbnB1dElkIEVsZW1lbnQgSUQgb2YgdGhlIGlucHV0IGZpbGUgcGlja2VyIGVsZW1lbnQuCiAqIEBwYXJhbSB7c3RyaW5nfSBvdXRwdXRJZCBFbGVtZW50IElEIG9mIHRoZSBvdXRwdXQgZGlzcGxheS4KICogQHJldHVybiB7IUl0ZXJhYmxlPCFPYmplY3Q+fSBJdGVyYWJsZSBvZiBuZXh0IHN0ZXBzLgogKi8KZnVuY3Rpb24qIHVwbG9hZEZpbGVzU3RlcChpbnB1dElkLCBvdXRwdXRJZCkgewogIGNvbnN0IGlucHV0RWxlbWVudCA9IGRvY3VtZW50LmdldEVsZW1lbnRCeUlkKGlucHV0SWQpOwogIGlucHV0RWxlbWVudC5kaXNhYmxlZCA9IGZhbHNlOwoKICBjb25zdCBvdXRwdXRFbGVtZW50ID0gZG9jdW1lbnQuZ2V0RWxlbWVudEJ5SWQob3V0cHV0SWQpOwogIG91dHB1dEVsZW1lbnQuaW5uZXJIVE1MID0gJyc7CgogIGNvbnN0IHBpY2tlZFByb21pc2UgPSBuZXcgUHJvbWlzZSgocmVzb2x2ZSkgPT4gewogICAgaW5wdXRFbGVtZW50LmFkZEV2ZW50TGlzdGVuZXIoJ2NoYW5nZScsIChlKSA9PiB7CiAgICAgIHJlc29sdmUoZS50YXJnZXQuZmlsZXMpOwogICAgfSk7CiAgfSk7CgogIGNvbnN0IGNhbmNlbCA9IGRvY3VtZW50LmNyZWF0ZUVsZW1lbnQoJ2J1dHRvbicpOwogIGlucHV0RWxlbWVudC5wYXJlbnRFbGVtZW50LmFwcGVuZENoaWxkKGNhbmNlbCk7CiAgY2FuY2VsLnRleHRDb250ZW50ID0gJ0NhbmNlbCB1cGxvYWQnOwogIGNvbnN0IGNhbmNlbFByb21pc2UgPSBuZXcgUHJvbWlzZSgocmVzb2x2ZSkgPT4gewogICAgY2FuY2VsLm9uY2xpY2sgPSAoKSA9PiB7CiAgICAgIHJlc29sdmUobnVsbCk7CiAgICB9OwogIH0pOwoKICAvLyBXYWl0IGZvciB0aGUgdXNlciB0byBwaWNrIHRoZSBmaWxlcy4KICBjb25zdCBmaWxlcyA9IHlpZWxkIHsKICAgIHByb21pc2U6IFByb21pc2UucmFjZShbcGlja2VkUHJvbWlzZSwgY2FuY2VsUHJvbWlzZV0pLAogICAgcmVzcG9uc2U6IHsKICAgICAgYWN0aW9uOiAnc3RhcnRpbmcnLAogICAgfQogIH07CgogIGNhbmNlbC5yZW1vdmUoKTsKCiAgLy8gRGlzYWJsZSB0aGUgaW5wdXQgZWxlbWVudCBzaW5jZSBmdXJ0aGVyIHBpY2tzIGFyZSBub3QgYWxsb3dlZC4KICBpbnB1dEVsZW1lbnQuZGlzYWJsZWQgPSB0cnVlOwoKICBpZiAoIWZpbGVzKSB7CiAgICByZXR1cm4gewogICAgICByZXNwb25zZTogewogICAgICAgIGFjdGlvbjogJ2NvbXBsZXRlJywKICAgICAgfQogICAgfTsKICB9CgogIGZvciAoY29uc3QgZmlsZSBvZiBmaWxlcykgewogICAgY29uc3QgbGkgPSBkb2N1bWVudC5jcmVhdGVFbGVtZW50KCdsaScpOwogICAgbGkuYXBwZW5kKHNwYW4oZmlsZS5uYW1lLCB7Zm9udFdlaWdodDogJ2JvbGQnfSkpOwogICAgbGkuYXBwZW5kKHNwYW4oCiAgICAgICAgYCgke2ZpbGUudHlwZSB8fCAnbi9hJ30pIC0gJHtmaWxlLnNpemV9IGJ5dGVzLCBgICsKICAgICAgICBgbGFzdCBtb2RpZmllZDogJHsKICAgICAgICAgICAgZmlsZS5sYXN0TW9kaWZpZWREYXRlID8gZmlsZS5sYXN0TW9kaWZpZWREYXRlLnRvTG9jYWxlRGF0ZVN0cmluZygpIDoKICAgICAgICAgICAgICAgICAgICAgICAgICAgICAgICAgICAgJ24vYSd9IC0gYCkpOwogICAgY29uc3QgcGVyY2VudCA9IHNwYW4oJzAlIGRvbmUnKTsKICAgIGxpLmFwcGVuZENoaWxkKHBlcmNlbnQpOwoKICAgIG91dHB1dEVsZW1lbnQuYXBwZW5kQ2hpbGQobGkpOwoKICAgIGNvbnN0IGZpbGVEYXRhUHJvbWlzZSA9IG5ldyBQcm9taXNlKChyZXNvbHZlKSA9PiB7CiAgICAgIGNvbnN0IHJlYWRlciA9IG5ldyBGaWxlUmVhZGVyKCk7CiAgICAgIHJlYWRlci5vbmxvYWQgPSAoZSkgPT4gewogICAgICAgIHJlc29sdmUoZS50YXJnZXQucmVzdWx0KTsKICAgICAgfTsKICAgICAgcmVhZGVyLnJlYWRBc0FycmF5QnVmZmVyKGZpbGUpOwogICAgfSk7CiAgICAvLyBXYWl0IGZvciB0aGUgZGF0YSB0byBiZSByZWFkeS4KICAgIGxldCBmaWxlRGF0YSA9IHlpZWxkIHsKICAgICAgcHJvbWlzZTogZmlsZURhdGFQcm9taXNlLAogICAgICByZXNwb25zZTogewogICAgICAgIGFjdGlvbjogJ2NvbnRpbnVlJywKICAgICAgfQogICAgfTsKCiAgICAvLyBVc2UgYSBjaHVua2VkIHNlbmRpbmcgdG8gYXZvaWQgbWVzc2FnZSBzaXplIGxpbWl0cy4gU2VlIGIvNjIxMTU2NjAuCiAgICBsZXQgcG9zaXRpb24gPSAwOwogICAgZG8gewogICAgICBjb25zdCBsZW5ndGggPSBNYXRoLm1pbihmaWxlRGF0YS5ieXRlTGVuZ3RoIC0gcG9zaXRpb24sIE1BWF9QQVlMT0FEX1NJWkUpOwogICAgICBjb25zdCBjaHVuayA9IG5ldyBVaW50OEFycmF5KGZpbGVEYXRhLCBwb3NpdGlvbiwgbGVuZ3RoKTsKICAgICAgcG9zaXRpb24gKz0gbGVuZ3RoOwoKICAgICAgY29uc3QgYmFzZTY0ID0gYnRvYShTdHJpbmcuZnJvbUNoYXJDb2RlLmFwcGx5KG51bGwsIGNodW5rKSk7CiAgICAgIHlpZWxkIHsKICAgICAgICByZXNwb25zZTogewogICAgICAgICAgYWN0aW9uOiAnYXBwZW5kJywKICAgICAgICAgIGZpbGU6IGZpbGUubmFtZSwKICAgICAgICAgIGRhdGE6IGJhc2U2NCwKICAgICAgICB9LAogICAgICB9OwoKICAgICAgbGV0IHBlcmNlbnREb25lID0gZmlsZURhdGEuYnl0ZUxlbmd0aCA9PT0gMCA/CiAgICAgICAgICAxMDAgOgogICAgICAgICAgTWF0aC5yb3VuZCgocG9zaXRpb24gLyBmaWxlRGF0YS5ieXRlTGVuZ3RoKSAqIDEwMCk7CiAgICAgIHBlcmNlbnQudGV4dENvbnRlbnQgPSBgJHtwZXJjZW50RG9uZX0lIGRvbmVgOwoKICAgIH0gd2hpbGUgKHBvc2l0aW9uIDwgZmlsZURhdGEuYnl0ZUxlbmd0aCk7CiAgfQoKICAvLyBBbGwgZG9uZS4KICB5aWVsZCB7CiAgICByZXNwb25zZTogewogICAgICBhY3Rpb246ICdjb21wbGV0ZScsCiAgICB9CiAgfTsKfQoKc2NvcGUuZ29vZ2xlID0gc2NvcGUuZ29vZ2xlIHx8IHt9OwpzY29wZS5nb29nbGUuY29sYWIgPSBzY29wZS5nb29nbGUuY29sYWIgfHwge307CnNjb3BlLmdvb2dsZS5jb2xhYi5fZmlsZXMgPSB7CiAgX3VwbG9hZEZpbGVzLAogIF91cGxvYWRGaWxlc0NvbnRpbnVlLAp9Owp9KShzZWxmKTsK",
              "ok": true,
              "headers": [
                [
                  "content-type",
                  "application/javascript"
                ]
              ],
              "status": 200,
              "status_text": ""
            }
          },
          "base_uri": "https://localhost:8080/",
          "height": 73
        },
        "id": "qY0gUfFBII2O",
        "outputId": "a38ad56d-8de6-43fd-998a-6a0a6ec10d60"
      },
      "source": [
        "from google.colab import files\n",
        "data_files = files.upload()"
      ],
      "execution_count": null,
      "outputs": [
        {
          "output_type": "display_data",
          "data": {
            "text/html": [
              "\n",
              "     <input type=\"file\" id=\"files-f4523684-86cb-4be9-a388-44996abf4aa1\" name=\"files[]\" multiple disabled\n",
              "        style=\"border:none\" />\n",
              "     <output id=\"result-f4523684-86cb-4be9-a388-44996abf4aa1\">\n",
              "      Upload widget is only available when the cell has been executed in the\n",
              "      current browser session. Please rerun this cell to enable.\n",
              "      </output>\n",
              "      <script src=\"/nbextensions/google.colab/files.js\"></script> "
            ],
            "text/plain": [
              "<IPython.core.display.HTML object>"
            ]
          },
          "metadata": {
            "tags": []
          }
        },
        {
          "output_type": "stream",
          "text": [
            "Saving savings_data_final.csv to savings_data_final.csv\n"
          ],
          "name": "stdout"
        }
      ]
    },
    {
      "cell_type": "code",
      "metadata": {
        "id": "YLRSYQn1Icd_"
      },
      "source": [
        "import plotly.express as px\n",
        "import csv\n",
        "import pandas as p\n",
        "\n",
        "df = p.read_csv(\"savings_data_final.csv\")\n",
        "\n",
        "figure = px.scatter(df, y = \"quant_saved\", color = \"rem_any\")\n",
        "\n",
        "figure.show()"
      ],
      "execution_count": null,
      "outputs": []
    },
    {
      "cell_type": "code",
      "metadata": {
        "id": "OIW7z4MVKFhU"
      },
      "source": [
        "import plotly.graph_objects as go\n",
        "import csv\n",
        "\n",
        "with open(\"savings_data_final.csv\", newline = \"\") as f:\n",
        "  savings_data = list(csv.reader(f))\n",
        "  savings_data.pop(0)\n",
        "  print(savings_data)\n",
        "\n",
        "  total_people_rem = 0\n",
        "  total_people_rem_not = 0\n",
        "\n",
        "  for s in range(len(savings_data)):\n",
        "    if (int(savings_data[s][3]) == 1):\n",
        "      total_people_rem += 1\n",
        "    else:\n",
        "      total_people_rem_not += 1\n",
        "\n",
        "figure = go.Figure(go.Bar(x = [\"Reminded\", \"Not Reminded\"], y = [total_people_rem, total_people_rem_not]))\n",
        "\n",
        "figure.show()"
      ],
      "execution_count": null,
      "outputs": []
    },
    {
      "cell_type": "code",
      "metadata": {
        "id": "fV_AadyTO0vm"
      },
      "source": [
        "#Mean, Median and Mode of Saving Data\n",
        "import statistics\n",
        "\n",
        "data_list = list()\n",
        "\n",
        "for s in range(len(savings_data)):\n",
        "  data = savings_data[s][0]\n",
        "  data_list.append(float(data))\n",
        "print(data_list)\n",
        "\n",
        "data_mean = statistics.mean(data_list)\n",
        "data_median = statistics.median(data_list)\n",
        "data_mode = statistics.mode(data_list)\n",
        "\n",
        "print(\"The Mean is {dm}\".format(dm = data_mean))\n",
        "print(\"The Median is {dm}\".format(dm = data_median))\n",
        "print(data_mode)"
      ],
      "execution_count": null,
      "outputs": []
    },
    {
      "cell_type": "code",
      "metadata": {
        "id": "_wY5ZvRURwlE"
      },
      "source": [
        "import statistics\n",
        "\n",
        "reminded_saving = list()\n",
        "not_reminded_saving = list()\n",
        "\n",
        "for i in range(len(savings_data)):\n",
        "  if(int(savings_data[i][3]) == 1):\n",
        "    saving_rem = savings_data[i][0]\n",
        "    reminded_saving.append(float(saving_rem))\n",
        "  else:\n",
        "    saving_not_rem = savings_data[i][0]\n",
        "    not_reminded_saving.append(float(saving_not_rem))\n",
        "\n",
        "print(\"Reminded = \" + str(reminded_saving))\n",
        "print()\n",
        "print(\"Not Reminded = \" + str(not_reminded_saving))\n",
        "print()\n",
        "\n",
        "mean_rem = statistics.mean(reminded_saving)\n",
        "median_rem = statistics.median(reminded_saving)\n",
        "mode_rem = statistics.mode(reminded_saving)\n",
        "\n",
        "mean_not = statistics.mean(not_reminded_saving)\n",
        "median_not = statistics.median(not_reminded_saving)\n",
        "mode_not = statistics.mode(not_reminded_saving)\n",
        "\n",
        "print(\"The Rem Mean is \" + str(mean_rem))\n",
        "print()\n",
        "print(\"The Rem Median is \" + str(median_rem))\n",
        "print()\n",
        "\n",
        "print(\"The N_Rem Mean is \" + str(mean_not))\n",
        "print()\n",
        "print(\"The N_Rem Median is \" + str(median_not))"
      ],
      "execution_count": null,
      "outputs": []
    },
    {
      "cell_type": "code",
      "metadata": {
        "id": "94Vv6yk0UlB4"
      },
      "source": [
        "import statistics\n",
        "\n",
        "print(f\"Standard Deviation of All Data {statistics.stdev(data_list)}\")\n",
        "\n",
        "print()\n",
        "\n",
        "print(f\"Standard Deviation of People who were reminded {statistics.stdev(reminded_saving)}\")\n",
        "\n",
        "print()\n",
        "\n",
        "print(f\"Standard Deviation of People who were not reminded {statistics.stdev(not_reminded_saving)}\")"
      ],
      "execution_count": null,
      "outputs": []
    },
    {
      "cell_type": "code",
      "metadata": {
        "id": "XsVbFmIxW8vs"
      },
      "source": [
        "import numpy as np\n",
        "\n",
        "age_list = list()\n",
        "\n",
        "for i in range(len(savings_data)):\n",
        "  age = savings_data[i][-1]\n",
        "  if (age == 0):\n",
        "    continue\n",
        "  else:\n",
        "    age_list.append(float(age))\n",
        "\n",
        "correlation = np.corrcoef(age_list, data_list)\n",
        "\n",
        "print(f\"The Correlation between ages and savings is {correlation[0, 1]}\")"
      ],
      "execution_count": null,
      "outputs": []
    },
    {
      "cell_type": "code",
      "metadata": {
        "id": "pVXrIUHhY2kI"
      },
      "source": [
        "import plotly.figure_factory as pff\n",
        "\n",
        "figure = pff.create_distplot([data_list], [\"Savings\"], show_hist = False)\n",
        "\n",
        "figure.show()"
      ],
      "execution_count": null,
      "outputs": []
    },
    {
      "cell_type": "code",
      "metadata": {
        "id": "OxnRHqjPq2ko"
      },
      "source": [
        "import pandas as pd\n",
        "\n",
        "q1 = df[\"quant_saved\"].quantile(0.25)\n",
        "q3 = df[\"quant_saved\"].quantile(0.75)\n",
        "\n",
        "iqr = q3 - q1\n",
        "\n",
        "lower_whisker = q1 - 1.5*iqr\n",
        "upper_whisker = q3 + 1.5*iqr\n",
        "\n",
        "print(f\"First Quartile is {q1}\")\n",
        "print()\n",
        "print(f\"Third Quartile is {q3}\")\n",
        "print()\n",
        "print(f\"Inter-Quartile Range is {iqr}\")\n",
        "print()\n",
        "print(f\"The Lower Whisker is {lower_whisker}\")\n",
        "print()\n",
        "print(f\"The Upper Whisker is {upper_whisker}\")"
      ],
      "execution_count": null,
      "outputs": []
    },
    {
      "cell_type": "code",
      "metadata": {
        "id": "cxm12jWmvC7i"
      },
      "source": [
        "new_df = df[df[\"quant_saved\"] < upper_whisker]\n",
        "\n",
        "all_savings = new_df[\"quant_saved\"].tolist()\n",
        "\n",
        "figure_all_savings = pff.create_distplot([all_savings], [\"Results\"], show_hist = False)\n",
        "\n",
        "mean_as = statistics.mean(all_savings)\n",
        "median_as = statistics.median(all_savings)\n",
        "mode_as = statistics.mode(all_savings)\n",
        "sd_as = statistics.stdev(all_savings)\n",
        "\n",
        "print(f\"The Mean is {mean_as}\")\n",
        "print()\n",
        "print(f\"The Median is {median_as}\")\n",
        "print()\n",
        "print(f\"The Mode is {mode_as}\")\n",
        "print()\n",
        "print(f\"The Standard Deviation is {sd_as}\")\n",
        "\n",
        "figure_all_savings.show()"
      ],
      "execution_count": null,
      "outputs": []
    },
    {
      "cell_type": "code",
      "metadata": {
        "id": "kvCYhajiwlDL"
      },
      "source": [
        "import random as r\n",
        "data_set_new = list()\n",
        "mean_1000_list = list()\n",
        "for i in range(1000):\n",
        "  for d in range(100):\n",
        "      #random_i = r.randint(0, len(all_savings) - 1)\n",
        "      data_set_new.append(r.choice(all_savings))\n",
        "  mean_of_data_set = statistics.mean(data_set_new)\n",
        "  mean_1000_list.append(mean_of_data_set)\n",
        "final_mean_sampling = statistics.mean(mean_1000_list)\n",
        "\n",
        "print(final_mean_sampling)\n",
        "\n",
        "sampling_figure = pff.create_distplot([mean_1000_list], [\"Results\"], show_hist = False)\n",
        "\n",
        "sampling_figure.add_trace(go.Scatter(x = [final_mean_sampling, final_mean_sampling], y = [0, 2.5], mode = \"lines\", name = \"Mean\"))\n",
        "\n",
        "sampling_figure.show()"
      ],
      "execution_count": null,
      "outputs": []
    },
    {
      "cell_type": "code",
      "metadata": {
        "id": "1xewLMc70-UT"
      },
      "source": [
        "reminded_df = new_df.loc[new_df[\"rem_any\"] == 1]\n",
        "\n",
        "not_reminded_df = new_df.loc[new_df[\"rem_any\"] == 0]\n",
        "\n",
        "figure_reminded = pff.create_distplot([reminded_df[\"quant_saved\"].tolist()], [\"Results\"], show_hist = False)\n",
        "\n",
        "figure_reminded.show()\n",
        "\n",
        "#figure_not_reminded = pff.create_distplot([not_reminded_df[\"quant_saved\"].tolist()], [\"Results\"], show_hist = False)\n",
        "\n",
        "#figure_not_reminded.show()"
      ],
      "execution_count": null,
      "outputs": []
    },
    {
      "cell_type": "code",
      "metadata": {
        "id": "M0wLtCxH2l4x"
      },
      "source": [
        "#Reminded Sampling\n",
        "data_set_rem = list()\n",
        "mean_1000_list_rem = list()\n",
        "for i in range(1000):\n",
        "  for d in range(100):\n",
        "      #random_i = r.randint(0, len(all_savings) - 1)\n",
        "      data_set_rem.append(r.choice(reminded_df[\"quant_saved\"].tolist()))\n",
        "  mean_of_data_set_rem = statistics.mean(data_set_rem)\n",
        "  mean_1000_list_rem.append(mean_of_data_set_rem)\n",
        "final_mean_sampling_rem = statistics.mean(mean_1000_list_rem)\n",
        "\n",
        "print(final_mean_sampling)\n",
        "\n",
        "sampling_figure_rem = pff.create_distplot([mean_1000_list_rem], [\"\"], show_hist = False)\n",
        "\n",
        "sampling_figure_rem.add_trace(go.Scatter(x = [final_mean_sampling_rem, final_mean_sampling_rem], y = [0, 2.4], mode = \"lines\", name = \"Mean\"))\n",
        "\n",
        "sampling_figure_rem.show()"
      ],
      "execution_count": null,
      "outputs": []
    },
    {
      "cell_type": "code",
      "metadata": {
        "id": "B19b_7wD8P80"
      },
      "source": [
        "#Z Core for Reminded\n",
        "first_sd_left, first_sd_right = mean_as-sd_as, mean_as+sd_as\n",
        "second_sd_left, second_sd_right = mean_as-sd_as*2, mean_as+sd_as*2\n",
        "third_sd_left, third_sd_right = mean_as-sd_as*3, mean_as+sd_as*3\n",
        "\n",
        "print(f\"The Z Score for is {(mean_as - final_mean_sampling_rem)/sd_as}\")\n",
        "\n",
        "sampling_figure_rem.add_trace(go.Scatter(x=[first_sd_left, first_sd_left], y=[0, 2.4], mode=\"lines\", name=\"First SD Left\"))\n",
        "sampling_figure_rem.add_trace(go.Scatter(x=[first_sd_right, first_sd_right], y=[0, 2.4], mode=\"lines\", name=\"First SD Right\"))\n",
        "\n",
        "sampling_figure_rem.add_trace(go.Scatter(x=[second_sd_left, second_sd_left], y=[0, 2.4], mode=\"lines\", name=\"Second SD Left\"))\n",
        "sampling_figure_rem.add_trace(go.Scatter(x=[second_sd_right, second_sd_right], y=[0, 2.4], mode=\"lines\", name=\"Second SD Right\"))\n",
        "\n",
        "sampling_figure_rem.add_trace(go.Scatter(x=[third_sd_left, third_sd_left], y=[0, 2.4], mode=\"lines\", name=\"Third SD Left\"))\n",
        "sampling_figure_rem.add_trace(go.Scatter(x=[third_sd_right, third_sd_right], y=[0, 2.4], mode=\"lines\", name=\"Third SD Right\"))\n",
        "\n",
        "sampling_figure_rem.show()"
      ],
      "execution_count": null,
      "outputs": []
    }
  ]
}